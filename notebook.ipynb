{
 "cells": [
  {
   "cell_type": "code",
   "execution_count": 3,
   "metadata": {},
   "outputs": [],
   "source": [
    "# import findspark\n",
    "# findspark.init()\n",
    "import time\n",
    "from pyspark import SparkConf,SparkContext\n",
    "from pyspark.streaming import StreamingContext\n",
    "from pyspark.sql import Row,SQLContext\n",
    "import sys\n",
    "import requests"
   ]
  },
  {
   "cell_type": "code",
   "execution_count": null,
   "metadata": {},
   "outputs": [],
   "source": [
    "sc=SparkContext('local',\"task1\")\n",
    "sqlContext = SQLContext(sc)\n",
    "\n",
    "df = sqlContext.read.json(\"/home/pes1ug19cs599/inp2.json\")\n",
    "df.show(5)\n",
    "\n",
    "#select => \"select\" in sql\n",
    "df.select(\"author\", \"title\", \"rank\", \"price\").show(5)\n",
    "\n",
    "#isin => \"in\" in sql\n",
    "df[df.author.isin(\"John Sandford\", \"Stephenie Meyer\")].show(5)\n",
    "\n",
    "df.select(\"author\", \"title\", df.title.like(\"%THE%\")).show(5) #startswith, endswith\n",
    "\n",
    "df_del = df.drop(\"amazon_product_url\", \"published_date\")\n",
    "df_del.show(5)\n",
    "#df_add = df.withColumn('fresh_column') #add new columns\n",
    "#df_update = df.withColumnRenamed(\"published_date\", \"date\") #update/rename column names\n",
    "\n",
    "#groupBy + orderby\n",
    "df_grp = df.groupBy(\"author\").count().orderBy(\"count\", ascending=0).show(10)\n",
    "#filter\n",
    "df.filter(df[\"title\"] == \"THE HOST\").show(5)\n",
    "\n",
    "#  df -> rdd\n",
    "rdd1 = df.rdd\n",
    "rdd1.take(5)\n",
    "\n",
    "#  rdd -> df\n",
    "df2 = rdd1.toDF()\n",
    "df2.show(5)"
   ]
  }
 ],
 "metadata": {
  "interpreter": {
   "hash": "916dbcbb3f70747c44a77c7bcd40155683ae19c65e1c03b4aa3499c5328201f1"
  },
  "kernelspec": {
   "display_name": "Python 3.8.10 64-bit",
   "name": "python3"
  },
  "language_info": {
   "codemirror_mode": {
    "name": "ipython",
    "version": 3
   },
   "file_extension": ".py",
   "mimetype": "text/x-python",
   "name": "python",
   "nbconvert_exporter": "python",
   "pygments_lexer": "ipython3",
   "version": "3.8.10"
  },
  "orig_nbformat": 4
 },
 "nbformat": 4,
 "nbformat_minor": 2
}
